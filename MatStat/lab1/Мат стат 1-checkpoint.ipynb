{
 "cells": [
  {
   "cell_type": "code",
   "execution_count": 1,
   "metadata": {},
   "outputs": [],
   "source": [
    "from scipy import stats\n",
    "import scipy.stats as sps\n",
    "import numpy as np\n",
    "import pandas as pd"
   ]
  },
  {
   "cell_type": "code",
   "execution_count": 2,
   "metadata": {},
   "outputs": [
    {
     "data": {
      "text/html": [
       "<div>\n",
       "<style scoped>\n",
       "    .dataframe tbody tr th:only-of-type {\n",
       "        vertical-align: middle;\n",
       "    }\n",
       "\n",
       "    .dataframe tbody tr th {\n",
       "        vertical-align: top;\n",
       "    }\n",
       "\n",
       "    .dataframe thead th {\n",
       "        text-align: right;\n",
       "    }\n",
       "</style>\n",
       "<table border=\"1\" class=\"dataframe\">\n",
       "  <thead>\n",
       "    <tr style=\"text-align: right;\">\n",
       "      <th></th>\n",
       "      <th>Выборочное среднее</th>\n",
       "      <th>Выборочная оценка дисперсии</th>\n",
       "      <th>Выборочная оценка с.к.о</th>\n",
       "    </tr>\n",
       "  </thead>\n",
       "  <tbody>\n",
       "    <tr>\n",
       "      <th>X1</th>\n",
       "      <td>2.242878</td>\n",
       "      <td>5.128559</td>\n",
       "      <td>2.264632</td>\n",
       "    </tr>\n",
       "    <tr>\n",
       "      <th>X2</th>\n",
       "      <td>2.988083</td>\n",
       "      <td>0.922490</td>\n",
       "      <td>0.960463</td>\n",
       "    </tr>\n",
       "    <tr>\n",
       "      <th>pooled</th>\n",
       "      <td>2.615480</td>\n",
       "      <td>3.164357</td>\n",
       "      <td>1.778864</td>\n",
       "    </tr>\n",
       "  </tbody>\n",
       "</table>\n",
       "</div>"
      ],
      "text/plain": [
       "        Выборочное среднее  Выборочная оценка дисперсии  \\\n",
       "X1                2.242878                     5.128559   \n",
       "X2                2.988083                     0.922490   \n",
       "pooled            2.615480                     3.164357   \n",
       "\n",
       "        Выборочная оценка с.к.о  \n",
       "X1                     2.264632  \n",
       "X2                     0.960463  \n",
       "pooled                 1.778864  "
      ]
     },
     "execution_count": 2,
     "metadata": {},
     "output_type": "execute_result"
    }
   ],
   "source": [
    "X1 = sps.chi2.rvs(size = 150, df = 2)\n",
    "X2 = sps.norm.rvs(size = 150, loc = 3, scale = 1)\n",
    "pooled = np.concatenate([X1, X2])\n",
    "pd.DataFrame({\"Выборочное среднее\" : [X1.mean(),X2.mean(),pooled.mean()],\n",
    "              \"Выборочная оценка дисперсии\" : [X1.var(),X2.var(),pooled.var()],\n",
    "              \"Выборочная оценка с.к.о\" : [X1.std(),X2.std(),pooled.std()]},\n",
    "             index=['X1','X2','pooled'])"
   ]
  },
  {
   "cell_type": "code",
   "execution_count": 3,
   "metadata": {},
   "outputs": [],
   "source": [
    "def z_test(X, m0, real_std):\n",
    "    return (np.mean(X) - m0) * np.sqrt(len(X)) / real_std\n",
    "    \n",
    "def t_test(X, m0):\n",
    "    return (np.mean(X) - m0) * np.sqrt(len(X)) / np.std(X)\n",
    "\n",
    "def chi2_test_with_m(X, sigma):\n",
    "    sum0 = 0\n",
    "    for i in X:\n",
    "        sum0 += (i - 2) ** 2\n",
    "    return sum0 / (sigma ** 2)\n",
    "    \n",
    "def chi2_test_without_m(X, sigma):\n",
    "    sum0 = 0\n",
    "    mean = np.mean(X)\n",
    "    for i in X:\n",
    "        sum0 += (i - mean) ** 2\n",
    "    s0 = sum0 / (len(X) - 1)\n",
    "    return (len(X) - 1) * s0 / (sigma ** 2)"
   ]
  },
  {
   "cell_type": "code",
   "execution_count": 4,
   "metadata": {},
   "outputs": [
    {
     "name": "stdout",
     "output_type": "stream",
     "text": [
      "1.4873183721475554\n",
      "1.3135186932751126\n",
      "194.5330805830918\n",
      "192.32096464296427\n"
     ]
    }
   ],
   "source": [
    "print(z_test(X1, m0 = 2, real_std = 2))\n",
    "print(t_test(X1, m0 = 2))\n",
    "print(chi2_test_with_m(X1, sigma = 2))\n",
    "print(chi2_test_without_m(X1, sigma = 2))\n"
   ]
  },
  {
   "cell_type": "code",
   "execution_count": 5,
   "metadata": {},
   "outputs": [
    {
     "data": {
      "text/plain": [
       "Ttest_indResult(statistic=3.697883927189987, pvalue=0.00025875952080905756)"
      ]
     },
     "execution_count": 5,
     "metadata": {},
     "output_type": "execute_result"
    }
   ],
   "source": [
    "sps.stats.ttest_ind(X2, X1)"
   ]
  },
  {
   "cell_type": "code",
   "execution_count": 6,
   "metadata": {},
   "outputs": [],
   "source": [
    "def two_smpl_ftest(X1, X2):\n",
    "    sum01 = 0\n",
    "    sum02 = 0\n",
    "    for i in X1:\n",
    "        sum01 +=(i - 2) ** 2\n",
    "    for i in X2:\n",
    "        sum02 += (i - 3) ** 2\n",
    "        \n",
    "    s01 = sum01 / len(X1)\n",
    "    s02 = sum02 / len(X2)\n",
    "    return s01 / s02\n",
    "\n",
    "def two_smpl_ftest_without_m(X1, X2):\n",
    "    sum01 = 0\n",
    "    sum02 = 0\n",
    "    m1 = np.mean(X1)\n",
    "    m2 = np.mean(X2)\n",
    "    \n",
    "    for i in X1:\n",
    "        sum01 += (i - m1) ** 2\n",
    "    for i in X2:\n",
    "        sum02 += (i - m2) ** 2\n",
    "        \n",
    "    s1 = sum01 / len(X1)\n",
    "    s2 = sum02 / len(X2)\n",
    "    return s1 / s2"
   ]
  },
  {
   "cell_type": "code",
   "execution_count": 7,
   "metadata": {},
   "outputs": [
    {
     "name": "stdout",
     "output_type": "stream",
     "text": [
      "-3.697883927189987\n",
      "5.622557302223964\n",
      "5.559476681392491\n"
     ]
    }
   ],
   "source": [
    "print(stats.ttest_ind(X1, X2).statistic)\n",
    "print(two_smpl_ftest(X1, X2))\n",
    "print(two_smpl_ftest_without_m(X1, X2))"
   ]
  },
  {
   "cell_type": "code",
   "execution_count": 8,
   "metadata": {},
   "outputs": [
    {
     "name": "stdout",
     "output_type": "stream",
     "text": [
      "0.01696630399230008 1.0145144283755883 1.0072310700011136\n",
      "0.5014172806516924 0.08349996656965052 0.28896360769074453\n"
     ]
    }
   ],
   "source": [
    "n = 1000\n",
    "z_values = []\n",
    "p_values = []\n",
    "for i in range(n):\n",
    "    X1 = sps.chi2.rvs(size = 150, df = 2)\n",
    "    z_values.append(z_test(X1, m0 = 2, real_std = 2))\n",
    "    p_values.append(2 * min(stats.norm.cdf(z_test(X1, m0 = 2, real_std = 2), 0, 1),\n",
    "                            1 - stats.norm.cdf(z_test(X1, m0 = 2, real_std = 2), 0, 1)))\n",
    "\n",
    "print(np.mean(z_values), np.var(z_values), np.std(z_values))\n",
    "print(np.mean(p_values), np.var(p_values), np.std(p_values))"
   ]
  },
  {
   "cell_type": "code",
   "execution_count": 9,
   "metadata": {},
   "outputs": [
    {
     "data": {
      "image/png": "[encoded data removed]",
      "text/plain": [
       "<Figure size 432x288 with 1 Axes>"
      ]
     },
     "metadata": {},
     "output_type": "display_data"
    }
   ],
   "source": [
    "%matplotlib inline\n",
    "import matplotlib.pyplot as plt\n",
    "\n",
    "fig, ax = plt.subplots()\n",
    "\n",
    "# гистограмма\n",
    "n, bins, patches = ax.hist(z_values, 20, density = True)\n",
    "\n",
    "# график\n",
    "x = np.linspace(sps.norm.ppf(0.025),\n",
    "                sps.norm.ppf(0.975), 150)\n",
    "ax.plot(x, sps.norm.pdf(x))\n",
    "\n",
    "ax.set_title(\"Статистика критерия\")\n",
    "ax.set_ylabel(\"Плотность вероятности\")\n",
    "\n",
    "fig.tight_layout()\n",
    "plt.show()"
   ]
  },
  {
   "cell_type": "code",
   "execution_count": 10,
   "metadata": {},
   "outputs": [
    {
     "data": {
      "image/png": "[encoded data removed]",
      "text/plain": [
       "<Figure size 432x288 with 1 Axes>"
      ]
     },
     "metadata": {},
     "output_type": "display_data"
    }
   ],
   "source": [
    "fig, ax = plt.subplots()\n",
    "\n",
    "n, bins, patches = ax.hist(p_values, 20, density=True)\n",
    "\n",
    "x = np.linspace(stats.uniform.ppf(0.05), stats.uniform.ppf(0.95), 100)\n",
    "ax.plot(x, stats.uniform.pdf(x))\n",
    "\n",
    "ax.set_title(\"p-value\")\n",
    "ax.set_ylabel(\"Плотность вероятности\")\n",
    "plt.show()"
   ]
  }
 ],
 "metadata": {
  "kernelspec": {
   "display_name": "Python 3",
   "language": "python",
   "name": "python3"
  },
  "language_info": {
   "codemirror_mode": {
    "name": "ipython",
    "version": 3
   },
   "file_extension": ".py",
   "mimetype": "text/x-python",
   "name": "python",
   "nbconvert_exporter": "python",
   "pygments_lexer": "ipython3",
   "version": "3.6.5"
  }
 },
 "nbformat": 4,
 "nbformat_minor": 2
}
