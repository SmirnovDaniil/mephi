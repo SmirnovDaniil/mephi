{
 "cells": [
  {
   "cell_type": "code",
   "execution_count": 1,
   "metadata": {},
   "outputs": [],
   "source": [
    "import scipy.stats as sps\n",
    "import numpy as np\n",
    "import pandas as pd"
   ]
  },
  {
   "cell_type": "code",
   "execution_count": 9,
   "metadata": {},
   "outputs": [
    {
     "data": {
      "text/html": [
       "<div>\n",
       "<style scoped>\n",
       "    .dataframe tbody tr th:only-of-type {\n",
       "        vertical-align: middle;\n",
       "    }\n",
       "\n",
       "    .dataframe tbody tr th {\n",
       "        vertical-align: top;\n",
       "    }\n",
       "\n",
       "    .dataframe thead th {\n",
       "        text-align: right;\n",
       "    }\n",
       "</style>\n",
       "<table border=\"1\" class=\"dataframe\">\n",
       "  <thead>\n",
       "    <tr style=\"text-align: right;\">\n",
       "      <th></th>\n",
       "      <th>Выборочное среднее</th>\n",
       "      <th>Выборочная оценка дисперсии</th>\n",
       "      <th>Выборочная оценка с.к.о</th>\n",
       "    </tr>\n",
       "  </thead>\n",
       "  <tbody>\n",
       "    <tr>\n",
       "      <th>X1</th>\n",
       "      <td>1.808529</td>\n",
       "      <td>3.754794</td>\n",
       "      <td>1.937729</td>\n",
       "    </tr>\n",
       "    <tr>\n",
       "      <th>X2</th>\n",
       "      <td>2.861217</td>\n",
       "      <td>1.122402</td>\n",
       "      <td>1.059435</td>\n",
       "    </tr>\n",
       "    <tr>\n",
       "      <th>X3</th>\n",
       "      <td>-0.011128</td>\n",
       "      <td>1.460941</td>\n",
       "      <td>1.208694</td>\n",
       "    </tr>\n",
       "    <tr>\n",
       "      <th>X4</th>\n",
       "      <td>5.051365</td>\n",
       "      <td>1.015353</td>\n",
       "      <td>1.007647</td>\n",
       "    </tr>\n",
       "    <tr>\n",
       "      <th>pooled</th>\n",
       "      <td>2.023539</td>\n",
       "      <td>5.076706</td>\n",
       "      <td>2.253155</td>\n",
       "    </tr>\n",
       "  </tbody>\n",
       "</table>\n",
       "</div>"
      ],
      "text/plain": [
       "        Выборочное среднее  Выборочная оценка дисперсии  \\\n",
       "X1                1.808529                     3.754794   \n",
       "X2                2.861217                     1.122402   \n",
       "X3               -0.011128                     1.460941   \n",
       "X4                5.051365                     1.015353   \n",
       "pooled            2.023539                     5.076706   \n",
       "\n",
       "        Выборочная оценка с.к.о  \n",
       "X1                     1.937729  \n",
       "X2                     1.059435  \n",
       "X3                     1.208694  \n",
       "X4                     1.007647  \n",
       "pooled                 2.253155  "
      ]
     },
     "execution_count": 9,
     "metadata": {},
     "output_type": "execute_result"
    }
   ],
   "source": [
    "X1 = sps.chi2.rvs(size = 100, df = 2)\n",
    "X2 = sps.norm.rvs(size = 150, loc = 3, scale = 1)\n",
    "X3 = sps.uniform.rvs(size = 200,loc = -2, scale = 4)\n",
    "X4 = sps.norm.rvs(size = 100, loc = 5, scale = 1)\n",
    "pooled = np.concatenate([X1, X2, X3, X4])\n",
    "data = pd.DataFrame({\"Выборочное среднее\" : [X1.mean(), X2.mean(), X3.mean(), X4.mean(), pooled.mean()],\n",
    "              \"Выборочная оценка дисперсии\" : [X1.var(), X2.var(), X3.var(),X4.var(), pooled.var()],\n",
    "              \"Выборочная оценка с.к.о\" : [X1.std(), X2.std(), X3.std(), X4.std(), pooled.std()],\n",
    "             },index = ['X1','X2','X3','X4','pooled'])\n",
    "data"
   ]
  },
  {
   "cell_type": "code",
   "execution_count": 10,
   "metadata": {},
   "outputs": [
    {
     "name": "stderr",
     "output_type": "stream",
     "text": [
      "C:\\1\\lib\\site-packages\\numpy\\core\\_asarray.py:83: VisibleDeprecationWarning: Creating an ndarray from ragged nested sequences (which is a list-or-tuple of lists-or-tuples-or ndarrays with different lengths or shapes) is deprecated. If you meant to do this, you must specify 'dtype=object' when creating the ndarray\n",
      "  return array(a, dtype, copy=False, order=order)\n"
     ]
    },
    {
     "data": {
      "image/png": "[encoded data removed]",
      "text/plain": [
       "<Figure size 720x432 with 1 Axes>"
      ]
     },
     "metadata": {},
     "output_type": "display_data"
    }
   ],
   "source": [
    "%matplotlib inline\n",
    "import matplotlib.pyplot as plt\n",
    "\n",
    "fig, ax = plt.subplots(1, 1, figsize= (10, 6))\n",
    "\n",
    "ax.boxplot([X1, X2, X3, X4], labels=['X1', 'X2', 'X3', 'X4'])\n",
    "\n",
    "plt.show()\n"
   ]
  },
  {
   "cell_type": "code",
   "execution_count": 11,
   "metadata": {},
   "outputs": [
    {
     "data": {
      "text/plain": [
       "BartlettResult(statistic=65.86776866631709, pvalue=3.2713103770590417e-14)"
      ]
     },
     "execution_count": 11,
     "metadata": {},
     "output_type": "execute_result"
    }
   ],
   "source": [
    "sps.bartlett(X1, X2, X3, X4)"
   ]
  },
  {
   "cell_type": "code",
   "execution_count": null,
   "metadata": {},
   "outputs": [],
   "source": []
  },
  {
   "cell_type": "code",
   "execution_count": null,
   "metadata": {},
   "outputs": [],
   "source": []
  },
  {
   "cell_type": "code",
   "execution_count": 24,
   "metadata": {},
   "outputs": [
    {
     "data": {
      "text/plain": [
       "1.7046604112462493"
      ]
     },
     "execution_count": 24,
     "metadata": {},
     "output_type": "execute_result"
    }
   ],
   "source": [
    "D_vnutr = (X1.var() * len(X1) + X2.var() * len(X2) + X3.var() * len(X3) + X4.var() * len(X4)) \\\n",
    "    / (len(X1) + len(X2) + len(X3) + len(X4))\n",
    "D_vnutr\n"
   ]
  },
  {
   "cell_type": "code",
   "execution_count": 26,
   "metadata": {},
   "outputs": [
    {
     "data": {
      "text/plain": [
       "3.3720457284906544"
      ]
     },
     "execution_count": 26,
     "metadata": {},
     "output_type": "execute_result"
    }
   ],
   "source": [
    "D_mezh=len(X1) * (X1.mean() - pooled.mean()) ** 2 + len(X2) * (X2.mean() - pooled.mean()) ** 2 + \\\n",
    "    len(X3) * (X3.mean()-pooled.mean()) ** 2 + len(X4) * (X4.mean() - pooled.mean()) ** 2\n",
    "D_mezh /= len(X1) + len(X2) + len(X3) + len(X4)\n",
    "D_mezh"
   ]
  },
  {
   "cell_type": "code",
   "execution_count": 27,
   "metadata": {},
   "outputs": [
    {
     "data": {
      "text/plain": [
       "F_onewayResult(statistic=360.0202823602996, pvalue=6.250791705930936e-129)"
      ]
     },
     "execution_count": 27,
     "metadata": {},
     "output_type": "execute_result"
    }
   ],
   "source": [
    "sps.f_oneway(X1, X2, X3, X4)"
   ]
  },
  {
   "cell_type": "code",
   "execution_count": 28,
   "metadata": {},
   "outputs": [],
   "source": [
    "import statsmodels.stats.multicomp as mc"
   ]
  },
  {
   "cell_type": "code",
   "execution_count": 29,
   "metadata": {},
   "outputs": [
    {
     "data": {
      "text/html": [
       "<table class=\"simpletable\">\n",
       "<caption>Multiple Comparison of Means - Tukey HSD, FWER=0.05</caption>\n",
       "<tr>\n",
       "  <th>group1</th> <th>group2</th> <th>meandiff</th> <th>p-adj</th>  <th>lower</th>   <th>upper</th>  <th>reject</th>\n",
       "</tr>\n",
       "<tr>\n",
       "    <td>x1</td>     <td>x2</td>    <td>1.0527</td>  <td>0.001</td> <td>0.6167</td>  <td>1.4886</td>   <td>True</td> \n",
       "</tr>\n",
       "<tr>\n",
       "    <td>x1</td>     <td>x3</td>    <td>-1.8197</td> <td>0.001</td> <td>-2.2332</td> <td>-1.4061</td>  <td>True</td> \n",
       "</tr>\n",
       "<tr>\n",
       "    <td>x1</td>     <td>x4</td>    <td>3.2428</td>  <td>0.001</td> <td>2.7653</td>  <td>3.7204</td>   <td>True</td> \n",
       "</tr>\n",
       "<tr>\n",
       "    <td>x2</td>     <td>x3</td>    <td>-2.8723</td> <td>0.001</td> <td>-3.2371</td> <td>-2.5076</td>  <td>True</td> \n",
       "</tr>\n",
       "<tr>\n",
       "    <td>x2</td>     <td>x4</td>    <td>2.1901</td>  <td>0.001</td> <td>1.7542</td>  <td>2.6261</td>   <td>True</td> \n",
       "</tr>\n",
       "<tr>\n",
       "    <td>x3</td>     <td>x4</td>    <td>5.0625</td>  <td>0.001</td> <td>4.6489</td>  <td>5.4761</td>   <td>True</td> \n",
       "</tr>\n",
       "</table>"
      ],
      "text/plain": [
       "<class 'statsmodels.iolib.table.SimpleTable'>"
      ]
     },
     "execution_count": 29,
     "metadata": {},
     "output_type": "execute_result"
    }
   ],
   "source": [
    "r = mc.pairwise_tukeyhsd(pooled, ['x1'] * 100 + ['x2'] * 150 + ['x3'] * 200 + ['x4'] * 100)\n",
    "r.summary()"
   ]
  },
  {
   "cell_type": "code",
   "execution_count": 30,
   "metadata": {},
   "outputs": [
    {
     "data": {
      "image/png": "[encoded data removed]",
      "text/plain": [
       "<Figure size 720x432 with 1 Axes>"
      ]
     },
     "execution_count": 30,
     "metadata": {},
     "output_type": "execute_result"
    },
    {
     "data": {
      "image/png": "[encoded data removed]",
      "text/plain": [
       "<Figure size 720x432 with 1 Axes>"
      ]
     },
     "metadata": {},
     "output_type": "display_data"
    }
   ],
   "source": [
    "r.plot_simultaneous(figsize = (10, 6))\n"
   ]
  },
  {
   "cell_type": "code",
   "execution_count": null,
   "metadata": {},
   "outputs": [],
   "source": []
  },
  {
   "cell_type": "code",
   "execution_count": null,
   "metadata": {},
   "outputs": [],
   "source": []
  }
 ],
 "metadata": {
  "kernelspec": {
   "display_name": "Python 3",
   "language": "python",
   "name": "python3"
  },
  "language_info": {
   "codemirror_mode": {
    "name": "ipython",
    "version": 3
   },
   "file_extension": ".py",
   "mimetype": "text/x-python",
   "name": "python",
   "nbconvert_exporter": "python",
   "pygments_lexer": "ipython3",
   "version": "3.6.5"
  }
 },
 "nbformat": 4,
 "nbformat_minor": 2
}
